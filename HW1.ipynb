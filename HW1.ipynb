{
 "cells": [
  {
   "cell_type": "markdown",
   "metadata": {},
   "source": [
    "## Homework 1: Storytelling using satellite imaging"
   ]
  },
  {
   "cell_type": "markdown",
   "metadata": {},
   "source": [
    "Increasing availability of satellite imaging brings unique opportunities for journalism, as discussed in the article below: \n",
    "\n",
    "[Space, the Final Journalism Frontier](https://slate.com/technology/2015/09/how-satellites-could-revolutionize-journalism-and-storytelling.html)\n",
    "\n",
    "In this homework, your task is to prepare a journalistic article about:\n",
    "\n",
    "- a recent event (natural disaster, severe weather event, pollution, etc.), or\n",
    "- the presentation of a specific geographic location (city, town, touristic destination, geographically interesting area, etc.)\n",
    "\n",
    "using Sentinel Playground custom scripts for creating visualizations.\n"
   ]
  },
  {
   "cell_type": "markdown",
   "metadata": {},
   "source": [
    "### Article format\n",
    "\n",
    "Follow the form and format of a journal/magazine article/story, with a clear flow and with carefully-written context information about locations and events. Visualizations should be a major part of your article, and linked to the main text.\n",
    "\n",
    "Together with the article, also prepare a \"graphical abstract\", i.e. a single visualization and its caption that best represents/summarizes your article.\n"
   ]
  },
  {
   "cell_type": "markdown",
   "metadata": {},
   "source": [
    "### Files to submit:\n",
    "\n",
    "Please submit your article, graphical abstract (as .pdf preferably), and your commented scripts for each figure in your report.\n"
   ]
  },
  {
   "cell_type": "markdown",
   "metadata": {},
   "source": [
    "### Grading:\n",
    "\n",
    "Grading will be done based on a combination of:\n",
    "\n",
    "- Overall quality of the final article;\n",
    "- Technical quality of your scripts;\n",
    "- Clarity of the report and your scripts;\n",
    "\n",
    "A bonus will be given to best graphical abstract\n"
   ]
  }
 ],
 "metadata": {
  "kernelspec": {
   "display_name": "Python 3",
   "language": "python",
   "name": "python3"
  },
  "language_info": {
   "codemirror_mode": {
    "name": "ipython",
    "version": 3
   },
   "file_extension": ".py",
   "mimetype": "text/x-python",
   "name": "python",
   "nbconvert_exporter": "python",
   "pygments_lexer": "ipython3",
   "version": "3.7.3"
  }
 },
 "nbformat": 4,
 "nbformat_minor": 2
}
