{
 "cells": [
  {
   "cell_type": "markdown",
   "metadata": {},
   "source": [
    "# Sentinel Playground Temporal\n",
    "\n",
    "https://apps.sentinel-hub.com/sentinel-playground-temporal\n",
    "\n",
    "https://www.sentinel-hub.com/develop/documentation/custom-processing-scripts\n",
    "\n",
    "\n",
    "## Sentinel Hub Custom Script Contest\n",
    "https://sentinel-hub.com/contest"
   ]
  },
  {
   "cell_type": "markdown",
   "metadata": {},
   "source": [
    "## Simple visualization: Mount Aetna\n",
    "\n",
    "return [\n",
    "    B04 * 2.5 + Math.max(0, B12 - 0.1),\n",
    "    B03 * 2.5 + Math.max(0, B11 - 0.1),\n",
    "    B02 * 2.5\n",
    "];"
   ]
  },
  {
   "cell_type": "markdown",
   "metadata": {},
   "source": [
    "## Custom scripting\n",
    "\n",
    "\n",
    "SentinelHub EvalScript Doc:\n",
    "\n",
    "https://docs.sentinel-hub.com/api/latest/#/Evalscript/V3/README\n",
    "\n",
    "\n",
    "\n",
    "\n",
    "### Visualize Etna eruption     \n",
    "\n",
    "Etna Parco Regio   2019-12-22\n",
    "\n",
    "                   2017-03-16\n",
    "\n",
    "Simple script:\n",
    "\n",
    "return [\n",
    "    B04 * 2.5 + Math.max(0, B12 - 0.1),\n",
    "    B03 * 2.5 + Math.max(0, B11 - 0.1),\n",
    "    B02 * 2.5\n",
    "];\n",
    "\n",
    "\n",
    "More complex script:\n",
    "\n",
    "function setup(ds) {\n",
    "    setInputComponents([ds.B02, ds.B03, ds.B04, ds.B11, ds.B12]);\n",
    "    setOutputComponentCount(3);\n",
    "}\n",
    "\n",
    "let viz = new HighlightCompressVisualizerSingle(-1.0, 1.0);\n",
    "\n",
    "function evaluatePixel(samples) {\n",
    "    let val1 = samples[0].B04 * 2.5 + Math.max(0, samples[0].B12 - 0.1)\n",
    "    let val2 = samples[0].B03 * 2.5 + Math.max(0, samples[0].B11 - 0.1)\n",
    "    let val3 = samples[0].B02 * 2.5\n",
    "    return [val1, val2, val3]; \n",
    "}\n",
    "\n"
   ]
  },
  {
   "cell_type": "markdown",
   "metadata": {},
   "source": [
    "## Temporal visualization: Sydney, wildfires\n",
    "\n"
   ]
  },
  {
   "cell_type": "code",
   "execution_count": null,
   "metadata": {},
   "outputs": [],
   "source": []
  },
  {
   "cell_type": "code",
   "execution_count": null,
   "metadata": {},
   "outputs": [],
   "source": []
  },
  {
   "cell_type": "code",
   "execution_count": null,
   "metadata": {},
   "outputs": [],
   "source": [
    "function setup (dss) {\n",
    "  // get all bands for display and analysis\n",
    "  setInputComponents([dss.B02,dss.B03,dss.B04,dss.B05,dss.B08,dss.B12]);\n",
    "  // return as RGB\n",
    "  setOutputComponentCount(3);\n",
    "}\n",
    "\n",
    "function stretch(val, min, max) {return (val - min) / (max - min);}\n",
    "\n",
    "function filterScenes (scenes, inputMetadata) {  \n",
    "return scenes.filter(function (scene) {\n",
    "// set dates for pre-and-post fire analysis\n",
    "var allowedDates = [\"2019-11-01\",\"2019-12-26\"]; // Australia fires  \n",
    "\n",
    "// format scene date timestamp to match allowed dates \n",
    "var sceneDateStr = dateformat(scene.date);\n",
    "if (allowedDates.indexOf(sceneDateStr)!= -1) return true;\n",
    "else return false;\n",
    "  });\n",
    "}\n",
    "\n",
    "// Normalized Burn Ration calculation\n",
    "function calcNBR(sample) {\n",
    "  var denom = sample.B08+sample.B12;\n",
    "  var nbrval = ((denom!=0) ? (sample.B08-sample.B12) / denom : 0.0);\n",
    "  return nbrval;\n",
    "}\n",
    "\n",
    "function dateformat(d){  \n",
    "  var dd = d.getDate();\n",
    "  var mm = d.getMonth()+1;\n",
    "  var yyyy = d.getFullYear();\n",
    "  if(dd<10){dd='0'+dd}\n",
    "  if(mm<10){mm='0'+mm}\n",
    "  var isodate = yyyy+'-'+mm+'-'+dd;\n",
    "  return isodate;\n",
    "}\n",
    "\n",
    "function evaluatePixel(samples,scenes) {  \n",
    "  var nbrpre = 0;\n",
    "  var nbrpost = 0;  \n",
    "  \n",
    "  // get pre-fire image\n",
    "  nbrpre = calcNBR(samples[1]);\n",
    "  // get post-fire image\n",
    "  nbrpost = calcNBR(samples[0]);  \n",
    "  // get difference \n",
    "  var dnbr = nbrpre - nbrpost;\n",
    "  // set output display layers\n",
    "  var stretchMin = 0.05;\n",
    "  var stretchMax = 1.00;\n",
    "  var NaturalColors = [stretch(2.8 * samples[0].B04 + 0.1 * samples[0].B05, stretchMin, stretchMax), stretch(2.8 * samples[0].B03 + 0.15 * samples[0].B08, stretchMin, stretchMax), stretch(2.8 * samples[0].B02, stretchMin, stretchMax)];  \n",
    "  var burnModerate = [stretch(2.8 * samples[0].B04 + 0.1 * samples[0].B05, stretchMin, stretchMax)+0.5, stretch(2.8 * samples[0].B03 + 0.15 * samples[0].B08, stretchMin, stretchMax)+0.5, stretch(2.8 * samples[0].B02, stretchMin, stretchMax)];  \n",
    "  var burnSevere = [stretch(2.8 * samples[0].B04 + 0.1 * samples[0].B05, stretchMin, stretchMax)+0.5, stretch(2.8 * samples[0].B03 + 0.15 * samples[0].B08, stretchMin, stretchMax), stretch(2.8 * samples[0].B02, stretchMin, stretchMax)];\n",
    "  return (dnbr < 0.27 ?\n",
    "  NaturalColors : (dnbr < 0.66 ?\n",
    "  burnModerate : burnSevere)\n",
    "  ); \n",
    "}"
   ]
  }
 ],
 "metadata": {
  "kernelspec": {
   "display_name": "Python 3",
   "language": "python",
   "name": "python3"
  },
  "language_info": {
   "codemirror_mode": {
    "name": "ipython",
    "version": 3
   },
   "file_extension": ".py",
   "mimetype": "text/x-python",
   "name": "python",
   "nbconvert_exporter": "python",
   "pygments_lexer": "ipython3",
   "version": "3.7.3"
  }
 },
 "nbformat": 4,
 "nbformat_minor": 2
}
