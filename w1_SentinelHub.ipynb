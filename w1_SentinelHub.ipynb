{
 "cells": [
  {
   "cell_type": "markdown",
   "metadata": {},
   "source": [
    "# Sentinel Playground Temporal\n",
    "\n",
    "A graphical interface to a complete and daily updated Sentinel-2 archive\n",
    "\n",
    "Link: https://apps.sentinel-hub.com/sentinel-playground-temporal\n"
   ]
  },
  {
   "cell_type": "markdown",
   "metadata": {},
   "source": [
    "### Activity:\n",
    "- Go to Sentinel Playground\n",
    "- Select a location (Philadelphia?)\n",
    "- Display it in real color\n",
    "- Display different color bands   "
   ]
  },
  {
   "cell_type": "markdown",
   "metadata": {},
   "source": [
    "## Custom scripting, simple usage:\n",
    "\n",
    "Playground provides a Javascript based interface for visualization.\n",
    " \n",
    "Custom scripts: Javascript code used to control the visualization and processing of satellite images with\n",
    "Sentinel Hub\n",
    "\n"
   ]
  },
  {
   "cell_type": "markdown",
   "metadata": {},
   "source": [
    "### Activity:\n",
    "- Select a location (Mount Etna)\n",
    "- Display it using the following script:\n",
    "\n",
    "return [\n",
    "    B04 * 2.5 + Math.max(0, B12 - 0.1),\n",
    "    B03 * 2.5 + Math.max(0, B11 - 0.1),\n",
    "    B02 * 2.5\n",
    "];"
   ]
  },
  {
   "cell_type": "markdown",
   "metadata": {},
   "source": [
    "## Map algebra\n",
    "\n",
    "<img src=\"Images/mapAlgebra.png\">\n"
   ]
  },
  {
   "cell_type": "markdown",
   "metadata": {},
   "source": [
    "## Custom scripting, basic functions:\n",
    "\n",
    "<img src=\"Images/img1.png\">\n",
    "\n",
    "\n",
    "### Activity: Visualize Etna Eruption\n",
    "- Select a location (Etna Parco Regio)\n",
    "- Select a date (2017-03-16)\n",
    "- Display it using the following script:\n",
    "\n"
   ]
  },
  {
   "cell_type": "markdown",
   "metadata": {},
   "source": [
    "#### Simple script (True color)"
   ]
  },
  {
   "cell_type": "code",
   "execution_count": 1,
   "metadata": {},
   "outputs": [
    {
     "ename": "SyntaxError",
     "evalue": "'return' outside function (<ipython-input-1-366388989b1c>, line 1)",
     "output_type": "error",
     "traceback": [
      "\u001b[0;36m  File \u001b[0;32m\"<ipython-input-1-366388989b1c>\"\u001b[0;36m, line \u001b[0;32m1\u001b[0m\n\u001b[0;31m    return [ B04 * 2.5, B03 * 2.5, B02 * 2.5 ];\u001b[0m\n\u001b[0m                                               ^\u001b[0m\n\u001b[0;31mSyntaxError\u001b[0m\u001b[0;31m:\u001b[0m 'return' outside function\n"
     ]
    }
   ],
   "source": [
    "return [ B04 * 2.5, B03 * 2.5, B02 * 2.5 ];"
   ]
  },
  {
   "cell_type": "markdown",
   "metadata": {},
   "source": [
    "#### Simple script (False color, Vegetation in Red channel)"
   ]
  },
  {
   "cell_type": "code",
   "execution_count": null,
   "metadata": {},
   "outputs": [],
   "source": [
    "return [ B08 * 2.5, B04 * 2.5, B03 * 2.5 ];"
   ]
  },
  {
   "cell_type": "markdown",
   "metadata": {},
   "source": [
    "#### Simple script (Highlight lava)"
   ]
  },
  {
   "cell_type": "code",
   "execution_count": null,
   "metadata": {},
   "outputs": [],
   "source": [
    "return [ B12 * 2.5, B11 * 2.5, B04 * 2.5 ];"
   ]
  },
  {
   "cell_type": "markdown",
   "metadata": {},
   "source": [
    "####  Custom script"
   ]
  },
  {
   "cell_type": "code",
   "execution_count": 2,
   "metadata": {},
   "outputs": [
    {
     "ename": "SyntaxError",
     "evalue": "invalid syntax (<ipython-input-2-0006c9d68d4a>, line 1)",
     "output_type": "error",
     "traceback": [
      "\u001b[0;36m  File \u001b[0;32m\"<ipython-input-2-0006c9d68d4a>\"\u001b[0;36m, line \u001b[0;32m1\u001b[0m\n\u001b[0;31m    function setup(ds) {\u001b[0m\n\u001b[0m                 ^\u001b[0m\n\u001b[0;31mSyntaxError\u001b[0m\u001b[0;31m:\u001b[0m invalid syntax\n"
     ]
    }
   ],
   "source": [
    "function setup(ds) {\n",
    "    setInputComponents([ds.B02, ds.B03, ds.B04, ds.B11, ds.B12]);\n",
    "    setOutputComponentCount(3);\n",
    "}\n",
    "\n",
    "let viz = new HighlightCompressVisualizerSingle(-1.0, 1.0);\n",
    "\n",
    "function evaluatePixel(samples) {\n",
    "    let val1 = samples[0].B04 * 2.5 + Math.max(0, samples[0].B12 - 0.1)\n",
    "    let val2 = samples[0].B03 * 2.5 + Math.max(0, samples[0].B11 - 0.1)\n",
    "    let val3 = samples[0].B02 * 2.5\n",
    "    return [val1, val2, val3]; \n",
    "}"
   ]
  },
  {
   "cell_type": "markdown",
   "metadata": {},
   "source": [
    "<img src=\"Images/shub1_Etna.png\">"
   ]
  },
  {
   "cell_type": "markdown",
   "metadata": {},
   "source": [
    "<img src=\"Images/shub2_Etna.png\">"
   ]
  },
  {
   "cell_type": "markdown",
   "metadata": {},
   "source": [
    "## Creating an Index\n",
    "\n",
    "### NDVI =  (𝑁𝐼𝑅−𝑅𝐸𝐷) / (𝑁𝐼𝑅+𝑅𝐸𝐷)"
   ]
  },
  {
   "cell_type": "markdown",
   "metadata": {},
   "source": [
    "let NDVI = 2.5 * ((B08 - B04) / (B08 + B04));\n",
    "return [ NDVI ]\n",
    "or\n",
    "return [0, NDVI, 0]\n"
   ]
  },
  {
   "cell_type": "markdown",
   "metadata": {},
   "source": [
    "## Index function"
   ]
  },
  {
   "cell_type": "code",
   "execution_count": null,
   "metadata": {},
   "outputs": [],
   "source": [
    "let NDVI = index ( B08 ,  B04 ); //   index(X,Y) -> (X-Y)/(X+Y) \n"
   ]
  },
  {
   "cell_type": "markdown",
   "metadata": {},
   "source": [
    "### List of indexes\n",
    "\n",
    "<img src=\"Images/listIndex.png\">\n"
   ]
  },
  {
   "cell_type": "markdown",
   "metadata": {},
   "source": [
    "## Custom color scales"
   ]
  },
  {
   "cell_type": "markdown",
   "metadata": {},
   "source": [
    "### Activity: Discrete color scale for NDVI\n",
    "    "
   ]
  },
  {
   "cell_type": "code",
   "execution_count": null,
   "metadata": {},
   "outputs": [],
   "source": [
    "var NDVI = index (B08, B04); \n",
    "if (NDVI < 0.2) {\n",
    " return [0.3, 0.2, 0.7]\n",
    "}\n",
    "if (NDVI < 0.5) {\n",
    " return [0.2, 0.6, 0.3]\n",
    "}\n",
    "if (NDVI < 0.7) {\n",
    " return [0.5, 0.8, 0.2]\n",
    "}\n",
    "else {\n",
    " return [1, 0.4, 0]\n",
    "}"
   ]
  },
  {
   "cell_type": "markdown",
   "metadata": {},
   "source": [
    "### Activity: Continuous color scale for NDVI\n",
    "    "
   ]
  },
  {
   "cell_type": "code",
   "execution_count": null,
   "metadata": {},
   "outputs": [],
   "source": [
    "var NDVI = index (B08, B04);\n",
    "return colorBlend\n",
    "(NDVI, // Pixel value\n",
    " [0, 0.5, 1], // Define the borders\n",
    " [ [0, 0, 1], // Define the RGB colors for each border\n",
    " [0, 1, 0],\n",
    " [1, 0, 0],\n",
    " ]);"
   ]
  },
  {
   "cell_type": "markdown",
   "metadata": {},
   "source": [
    "<img src=\"Images/phl2.png\">"
   ]
  },
  {
   "cell_type": "markdown",
   "metadata": {},
   "source": [
    "## Temporal visualization\n",
    "\n",
    "### Activity: Sydney, wildfires\n",
    "\n",
    "#### Important: Activate temporal on the \"effects pane\"!"
   ]
  },
  {
   "cell_type": "markdown",
   "metadata": {},
   "source": [
    "#### Setup function (set input/output)"
   ]
  },
  {
   "cell_type": "code",
   "execution_count": null,
   "metadata": {},
   "outputs": [],
   "source": [
    "function setup (dss) {\n",
    "  // get all bands for display and analysis\n",
    "  setInputComponents([dss.B02,dss.B03,dss.B04,dss.B05,dss.B08,dss.B12]);\n",
    "  // return as RGB\n",
    "  setOutputComponentCount(3);\n",
    "}"
   ]
  },
  {
   "cell_type": "markdown",
   "metadata": {},
   "source": [
    "#### Stretch function (rescale values)"
   ]
  },
  {
   "cell_type": "code",
   "execution_count": null,
   "metadata": {},
   "outputs": [],
   "source": [
    "function stretch(val, min, max) {return (val - min) / (max - min);}"
   ]
  },
  {
   "cell_type": "markdown",
   "metadata": {},
   "source": [
    "#### filterScenes function (select multiple timepoints)"
   ]
  },
  {
   "cell_type": "code",
   "execution_count": null,
   "metadata": {},
   "outputs": [],
   "source": [
    "function filterScenes (scenes, inputMetadata) {  \n",
    "return scenes.filter(function (scene) {\n",
    "// set dates for pre-and-post fire analysis\n",
    "var allowedDates = [\"2019-11-01\",\"2019-12-26\"]; // Australia fires  \n",
    "\n",
    "// format scene date timestamp to match allowed dates \n",
    "var sceneDateStr = dateformat(scene.date);\n",
    "if (allowedDates.indexOf(sceneDateStr)!= -1) return true;\n",
    "else return false;\n",
    "  });\n",
    "}\n",
    "\n",
    "function dateformat(d){  \n",
    "  var dd = d.getDate();\n",
    "  var mm = d.getMonth()+1;\n",
    "  var yyyy = d.getFullYear();\n",
    "  if(dd<10){dd='0'+dd}\n",
    "  if(mm<10){mm='0'+mm}\n",
    "  var isodate = yyyy+'-'+mm+'-'+dd;\n",
    "  return isodate;\n",
    "}"
   ]
  },
  {
   "cell_type": "markdown",
   "metadata": {},
   "source": [
    "#### calcNBR function"
   ]
  },
  {
   "cell_type": "code",
   "execution_count": null,
   "metadata": {},
   "outputs": [],
   "source": [
    "// Normalized Burn Ration calculation\n",
    "function calcNBR(sample) {\n",
    "  var denom = sample.B08+sample.B12;\n",
    "  var nbrval = ((denom!=0) ? (sample.B08-sample.B12) / denom : 0.0);\n",
    "  return nbrval;\n",
    "}"
   ]
  },
  {
   "cell_type": "markdown",
   "metadata": {},
   "source": [
    "#### evaluatePixel function"
   ]
  },
  {
   "cell_type": "code",
   "execution_count": null,
   "metadata": {},
   "outputs": [],
   "source": [
    "function evaluatePixel(samples,scenes) {  \n",
    "  var nbrpre = 0;\n",
    "  var nbrpost = 0;  \n",
    "  \n",
    "  // get pre-fire image\n",
    "  nbrpre = calcNBR(samples[1]);\n",
    "  // get post-fire image\n",
    "  nbrpost = calcNBR(samples[0]);  \n",
    "  // get difference \n",
    "  var dnbr = nbrpre - nbrpost;\n",
    "  // set output display layers\n",
    "  var stretchMin = 0.05;\n",
    "  var stretchMax = 1.00;\n",
    "  var NaturalColors = [stretch(2.8 * samples[0].B04 + 0.1 * samples[0].B05, stretchMin, stretchMax), stretch(2.8 * samples[0].B03 + 0.15 * samples[0].B08, stretchMin, stretchMax), stretch(2.8 * samples[0].B02, stretchMin, stretchMax)];  \n",
    "  var burnModerate = [stretch(2.8 * samples[0].B04 + 0.1 * samples[0].B05, stretchMin, stretchMax)+0.5, stretch(2.8 * samples[0].B03 + 0.15 * samples[0].B08, stretchMin, stretchMax)+0.5, stretch(2.8 * samples[0].B02, stretchMin, stretchMax)];  \n",
    "  var burnSevere = [stretch(2.8 * samples[0].B04 + 0.1 * samples[0].B05, stretchMin, stretchMax)+0.5, stretch(2.8 * samples[0].B03 + 0.15 * samples[0].B08, stretchMin, stretchMax), stretch(2.8 * samples[0].B02, stretchMin, stretchMax)];\n",
    "  return (dnbr < 0.27 ?\n",
    "  NaturalColors : (dnbr < 0.66 ?\n",
    "  burnModerate : burnSevere)\n",
    "  ); \n",
    "}"
   ]
  },
  {
   "cell_type": "markdown",
   "metadata": {},
   "source": [
    "#### Complete script:"
   ]
  },
  {
   "cell_type": "code",
   "execution_count": null,
   "metadata": {},
   "outputs": [],
   "source": [
    "function setup (dss) {\n",
    "  // get all bands for display and analysis\n",
    "  setInputComponents([dss.B02,dss.B03,dss.B04,dss.B05,dss.B08,dss.B12]);\n",
    "  // return as RGB\n",
    "  setOutputComponentCount(3);\n",
    "}\n",
    "\n",
    "function stretch(val, min, max) {return (val - min) / (max - min);}\n",
    "\n",
    "function filterScenes (scenes, inputMetadata) {  \n",
    "return scenes.filter(function (scene) {\n",
    "// set dates for pre-and-post fire analysis\n",
    "var allowedDates = [\"2019-11-01\",\"2019-12-26\"]; // Australia fires\n",
    "// format scene date timestamp to match allowed dates \n",
    "var sceneDateStr = dateformat(scene.date);\n",
    "if (allowedDates.indexOf(sceneDateStr)!= -1) return true;\n",
    "else return false;\n",
    "  });\n",
    "}\n",
    "\n",
    "// Normalized Burn Ration calculation\n",
    "function calcNBR(sample) {\n",
    "  var denom = sample.B08+sample.B12;\n",
    "  var nbrval = ((denom!=0) ? (sample.B08-sample.B12) / denom : 0.0);\n",
    "  return nbrval;\n",
    "}\n",
    "\n",
    "function dateformat(d){  \n",
    "  var dd = d.getDate();\n",
    "  var mm = d.getMonth()+1;\n",
    "  var yyyy = d.getFullYear();\n",
    "  if(dd<10){dd='0'+dd}\n",
    "  if(mm<10){mm='0'+mm}\n",
    "  var isodate = yyyy+'-'+mm+'-'+dd;\n",
    "  return isodate;\n",
    "}\n",
    "\n",
    "function evaluatePixel(samples,scenes) {  \n",
    "  var nbrpre = 0;\n",
    "  var nbrpost = 0;  \n",
    "  \n",
    "  // get pre-fire image\n",
    "  nbrpre = calcNBR(samples[1]);\n",
    "  // get post-fire image\n",
    "  nbrpost = calcNBR(samples[0]);  \n",
    "  // get difference \n",
    "  var dnbr = nbrpre - nbrpost;\n",
    "  // set output display layers\n",
    "  var stretchMin = 0.05;\n",
    "  var stretchMax = 1.00;\n",
    "  var NaturalColors = [stretch(2.8 * samples[0].B04 + 0.1 * samples[0].B05, stretchMin, stretchMax), stretch(2.8 * samples[0].B03 + 0.15 * samples[0].B08, stretchMin, stretchMax), stretch(2.8 * samples[0].B02, stretchMin, stretchMax)];  \n",
    "  var burnModerate = [stretch(2.8 * samples[0].B04 + 0.1 * samples[0].B05, stretchMin, stretchMax)+0.5, stretch(2.8 * samples[0].B03 + 0.15 * samples[0].B08, stretchMin, stretchMax)+0.5, stretch(2.8 * samples[0].B02, stretchMin, stretchMax)];  \n",
    "  //var burnLow = [1, 204/255, 0]\n",
    "  var burnModerate = [1, 204/255, 0]\n",
    "  var burnHigh = [255/255, 121/255, 77/255]\n",
    "  var burnVeryHigh = [stretch(2.8 * samples[0].B04 + 0.1 * samples[0].B05, stretchMin, stretchMax)+0.5, stretch(2.8 * samples[0].B03 + 0.15 * samples[0].B08, stretchMin, stretchMax), stretch(2.8 * samples[0].B02, stretchMin, stretchMax)];\n",
    "  //Classification based on http://effis.jrc.ec.europa.eu/about-effis/technical-background/rapid-damage-assessment/\n",
    "  return (dnbr < 0.256 ?\n",
    "  NaturalColors : (dnbr < 0.42 ?\n",
    "  burnModerate : (dnbr < 0.66 ?\n",
    "  burnHigh : burnVeryHigh)));\n",
    "}\n"
   ]
  },
  {
   "cell_type": "markdown",
   "metadata": {},
   "source": [
    "<img src=\"Images/shub3_Sydney.png\">"
   ]
  },
  {
   "cell_type": "markdown",
   "metadata": {},
   "source": [
    "## Sentinel Hub Custom Script Contest\n",
    "\n",
    "Many examples!\n",
    "\n",
    "Unfortunately, deadline missed this year!\n",
    "\n",
    "https://sentinel-hub.com/contest"
   ]
  },
  {
   "cell_type": "markdown",
   "metadata": {},
   "source": [
    "## Homework 1\n",
    "\n",
    "[Storytelling using satellite imaging](https://github.com/MUSA-650-Spring-2020/Week1/blob/master/HW1.ipynb)\n",
    "\n",
    " "
   ]
  }
 ],
 "metadata": {
  "kernelspec": {
   "display_name": "Python 3",
   "language": "python",
   "name": "python3"
  },
  "language_info": {
   "codemirror_mode": {
    "name": "ipython",
    "version": 3
   },
   "file_extension": ".py",
   "mimetype": "text/x-python",
   "name": "python",
   "nbconvert_exporter": "python",
   "pygments_lexer": "ipython3",
   "version": "3.7.3"
  }
 },
 "nbformat": 4,
 "nbformat_minor": 2
}
